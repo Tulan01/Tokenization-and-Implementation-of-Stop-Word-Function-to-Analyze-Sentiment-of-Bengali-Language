{
 "cells": [
  {
   "cell_type": "code",
   "execution_count": 1,
   "metadata": {},
   "outputs": [],
   "source": [
    "import numpy as np\n",
    "import pandas as pd\n",
    "from sklearn.feature_extraction.text import CountVectorizer\n",
    "from sklearn.model_selection import train_test_split\n",
    "from sklearn.naive_bayes import MultinomialNB\n",
    "from sklearn.feature_extraction.text import TfidfVectorizer\n",
    "from sklearn import preprocessing\n",
    "from sklearn.metrics import confusion_matrix\n",
    "from sklearn.preprocessing import MaxAbsScaler\n",
    "from nltk.tokenize import word_tokenize\n",
    "from nltk.tokenize import SpaceTokenizer \n",
    "import os\n",
    "import psutil"
   ]
  },
  {
   "cell_type": "code",
   "execution_count": 2,
   "metadata": {},
   "outputs": [
    {
     "data": {
      "text/plain": [
       "0                                          তিনি কাজ জানেন\n",
       "1                                       তিনি কাজ জানেন না\n",
       "2                                  তিনি কোনো কাজ জানেন না\n",
       "3                                       তিনি কাজ করতে চান\n",
       "4                                    তিনি কাজ করতে ভয় পান\n",
       "5                             তিনি কাজ করতে অনেক ভালবাসেন\n",
       "6                                  তিনি কাজ করতে ভালবাসেন\n",
       "7                                       সবাই তাকে ভাল পান\n",
       "8                                  সবাই তাকে অনেক ভাল পান\n",
       "9                                      তার কাজ করতে পছন্দ\n",
       "10                                  তার কাজ করতে পছন্দ না\n",
       "11                                      তিনি সবার ভাল চান\n",
       "12                                   তিনি কারো ভাল চান না\n",
       "13                                   তিনি আমাকে মারতে চান\n",
       "14                                 তিনি কারো খারাপ চান না\n",
       "15                                      তিনি খারাপ চান না\n",
       "16                             তিনি কারো ভাল দেখতে পান না\n",
       "17                                আমাকে সবাই অনেক ভালবাসে\n",
       "18                                     আমাকে সবাই ভালবাসে\n",
       "19                                   আমাকে কেউ ভালবাসে না\n",
       "20                                    তিনি আমাকে ভালবাসেন\n",
       "21                               তিনি আমাকে অনেক ভালবাসেন\n",
       "22                                 তিনি আমাকে ভালবাসেন না\n",
       "23                             তিনি কোনো কিছু ভালবাসেন না\n",
       "24                                    তাকে সবাই পছন্দ করে\n",
       "25                                  তাকে কেউ পছন্দ করে না\n",
       "26                                তাকে আমার একদম পছন্দ না\n",
       "27                                            সবাই ব্যস্ত\n",
       "28                              সবাই তার সেবা করতে ব্যস্ত\n",
       "29                              ব্যস্ত আছি বিরক্ত করবে না\n",
       "                              ...                        \n",
       "7429    যতই কষ্ট করি দিন দিন কষ্ট বাড়ছে শান্তি আর খুঁজ...\n",
       "7430                     যতই সময় যাচ্ছে আমার ভয় আরো বাড়ছে\n",
       "7431                     সমাজে সবাই তোমাকে অনেক পছন্দ করে\n",
       "7432                  এই সমাজে কেউ কারো কথা চিন্তা করে না\n",
       "7433                    আমরা এই সমাজে অনেকের চেয়ে ভাল আছি\n",
       "7434       সমাজে কেউ কি কখনও অন্য কারো ভাল চাইতে পারবে না\n",
       "7435            এই সমাজে কেউ কারো না কেউ কারো কথা ভাবে না\n",
       "7436                 আমি জীবনে যা পাইনি তা সব তোমাকে দিবো\n",
       "7437    আমি পাইনি কিন্তু আমি চাই তুমি তোমার সব ইচ্ছা প...\n",
       "7438                    আমি জীবনে কষ্ট ছাড়া আর কিছু পাইনি\n",
       "7439                          তোমার কারণে আমি কাজটি পাইনি\n",
       "7440                    আমি সেখানে গিয়ে কাউকে খুঁজে পাইনি\n",
       "7441         সে কাজে যাওয়ার আগে সবার কাছ থেকে দোয়া নিচ্ছে\n",
       "7442              সে কি নিচ্ছে আর কি নিচ্ছে না বলবা আমাকে\n",
       "7443                              সে কাউকে সাথে নিচ্ছে না\n",
       "7444             সে কিভাবে আমার জিনিস আমাকে না বলে নিচ্ছে\n",
       "7445    আমি জানতে চাই না সে কি নিচ্ছে আমি যাবো না তার ...\n",
       "7446    সে কখনও কারো কাছ থেকে কষ্ট পায়নি বরং ভালবাসা প...\n",
       "7447                 সুখ পায়নি তাই বলে সে কখনও আশাহত হয়নি\n",
       "7448                         কিছু পায়নি বলে সে কষ্ট পায়নি\n",
       "7449            তোমার কারণে আজ পর্যন্ত সে জীবনে সুখ পায়নি\n",
       "7450                  সে কাউকে খুঁজে পায়নি দেখে ভয় পেয়েছে\n",
       "7451                      তার প্রতি ভালবাসা দিন দিন বাড়ছে\n",
       "7452                    ভালবাসা কিভাবে বাড়ছে তা দেখতে হবে\n",
       "7453                          তার প্রতি আমার সম্মান বাড়ছে\n",
       "7454                          সে কখনও আমাকে আশাহত করে নাই\n",
       "7455                             তুমি আজ আমাকে আশাহত করেছ\n",
       "7456       আমি মোটেও আশাহত হইনি বরং তোমার কাজে খুশি হয়েছি\n",
       "7457    আমি কেনো এই কাজটি করলাম আমার কারণে সবাই আশাহত ...\n",
       "7458                         সে কি আমার প্রতি আশাহত হয়েছে\n",
       "Name: Review, Length: 7459, dtype: object"
      ]
     },
     "execution_count": 2,
     "metadata": {},
     "output_type": "execute_result"
    }
   ],
   "source": [
    "data = pd.read_csv(\"888.csv\")\n",
    "x = data['Review']\n",
    "y = data['Liked']\n",
    "x"
   ]
  },
  {
   "cell_type": "code",
   "execution_count": 3,
   "metadata": {},
   "outputs": [],
   "source": [
    "from nltk.tokenize import word_tokenize,sent_tokenize"
   ]
  },
  {
   "cell_type": "code",
   "execution_count": 4,
   "metadata": {},
   "outputs": [],
   "source": [
    "stop_words=['অনেকে','অনেকেই','অথবা','অথচ','অর্থাত','অন্য','আজ','আপনার','আপনি','আবার','আমরা','আমাকে','আমাদের',\n",
    "'আমার','আমি','আর','আই','আগামী','অবধি','আদ্যভাগে','এই','একই','একে','একটি','এটি','এটা','এটাই','এবং','একবার',\n",
    "'এবার','এদের','এঁদের','এমন','এমনকী','এল','এর','এরা','এঁরা','এস','এত','এতে','এসে','একে','এ','ঐ','ই','ইহা','ইত্যাদি'\n",
    ",'উনি','উপর','উপরে','ও','ওই','ওর','ওরা','ওঁর','ওঁরা','ওকে','ওদের','ওঁদের','ওখানে','কত','কবে','সেখানে','সে', 'স্বয়ং',\n",
    "'কি','কী','তিনি','তিনঐ','তিনিও','তাঁদের','তাঁহারা','তাঁরা','তাঁর','তাঁকে','তাই','তাকে','তাহার','তাদের','তারা','তারৈ','তার','তিনি',\n",
    "'তুমি','তোমার','তথা','দু','দুটি','দুটো','নিজে','নিজেই','নিজের','নিজেদের','প্রভৃতি','বার','বা','ভাবে','ভাবেই','মধ্যভাগে','যাকে',\n",
    "'যার','যারা','যাঁর','যাঁরা','যাদের','যিনি','যে','সবার','সহ','সুতরাং', 'সহিত','সেই','সেটা','সেটি','সেটাই','সেটাও','সম্প্রতি','সেখান', \n",
    "'হিসাবে','জন','জনকে','জনের','জন্যওজে','জে','তুলে','মোট','টি']"
   ]
  },
  {
   "cell_type": "code",
   "execution_count": 5,
   "metadata": {},
   "outputs": [],
   "source": [
    "import nltk"
   ]
  },
  {
   "cell_type": "code",
   "execution_count": 6,
   "metadata": {},
   "outputs": [],
   "source": [
    "tokens=x\n",
    "filtered=x\n",
    "for i in range(len(x)):\n",
    "    tokens= nltk.word_tokenize(x[i])\n",
    "    filtered[i]= [w for w in tokens if not w in stop_words]"
   ]
  },
  {
   "cell_type": "code",
   "execution_count": 7,
   "metadata": {},
   "outputs": [
    {
     "name": "stdout",
     "output_type": "stream",
     "text": [
      "0                                            [কাজ, জানেন]\n",
      "1                                        [কাজ, জানেন, না]\n",
      "2                                  [কোনো, কাজ, জানেন, না]\n",
      "3                                        [কাজ, করতে, চান]\n",
      "4                                    [কাজ, করতে, ভয়, পান]\n",
      "5                             [কাজ, করতে, অনেক, ভালবাসেন]\n",
      "6                                   [কাজ, করতে, ভালবাসেন]\n",
      "7                                        [সবাই, ভাল, পান]\n",
      "8                                  [সবাই, অনেক, ভাল, পান]\n",
      "9                                      [কাজ, করতে, পছন্দ]\n",
      "10                                 [কাজ, করতে, পছন্দ, না]\n",
      "11                                             [ভাল, চান]\n",
      "12                                   [কারো, ভাল, চান, না]\n",
      "13                                           [মারতে, চান]\n",
      "14                                 [কারো, খারাপ, চান, না]\n",
      "15                                       [খারাপ, চান, না]\n",
      "16                            [কারো, ভাল, দেখতে, পান, না]\n",
      "17                                  [সবাই, অনেক, ভালবাসে]\n",
      "18                                        [সবাই, ভালবাসে]\n",
      "19                                     [কেউ, ভালবাসে, না]\n",
      "20                                             [ভালবাসেন]\n",
      "21                                       [অনেক, ভালবাসেন]\n",
      "22                                         [ভালবাসেন, না]\n",
      "23                             [কোনো, কিছু, ভালবাসেন, না]\n",
      "24                                     [সবাই, পছন্দ, করে]\n",
      "25                                  [কেউ, পছন্দ, করে, না]\n",
      "26                                      [একদম, পছন্দ, না]\n",
      "27                                         [সবাই, ব্যস্ত]\n",
      "28                             [সবাই, সেবা, করতে, ব্যস্ত]\n",
      "29                        [ব্যস্ত, আছি, বিরক্ত, করবে, না]\n",
      "                              ...                        \n",
      "7429    [যতই, কষ্ট, করি, দিন, দিন, কষ্ট, বাড়ছে, শান্তি...\n",
      "7430                   [যতই, সময়, যাচ্ছে, ভয়, আরো, বাড়ছে]\n",
      "7431              [সমাজে, সবাই, তোমাকে, অনেক, পছন্দ, করে]\n",
      "7432             [সমাজে, কেউ, কারো, কথা, চিন্তা, করে, না]\n",
      "7433                      [সমাজে, অনেকের, চেয়ে, ভাল, আছি]\n",
      "7434      [সমাজে, কেউ, কখনও, কারো, ভাল, চাইতে, পারবে, না]\n",
      "7435           [সমাজে, কেউ, কারো, না, কেউ, কারো, কথা, না]\n",
      "7436             [জীবনে, যা, পাইনি, তা, সব, তোমাকে, দিবো]\n",
      "7437           [পাইনি, কিন্তু, চাই, সব, ইচ্ছা, পূরণ, করো]\n",
      "7438                     [জীবনে, কষ্ট, ছাড়া, কিছু, পাইনি]\n",
      "7439                                [কারণে, কাজটি, পাইনি]\n",
      "7440                          [গিয়ে, কাউকে, খুঁজে, পাইনি]\n",
      "7441         [কাজে, যাওয়ার, আগে, কাছ, থেকে, দোয়া, নিচ্ছে]\n",
      "7442                           [নিচ্ছে, নিচ্ছে, না, বলবা]\n",
      "7443                            [কাউকে, সাথে, নিচ্ছে, না]\n",
      "7444                     [কিভাবে, জিনিস, না, বলে, নিচ্ছে]\n",
      "7445            [জানতে, চাই, না, নিচ্ছে, যাবো, না, সামনে]\n",
      "7446    [কখনও, কারো, কাছ, থেকে, কষ্ট, পায়নি, বরং, ভালব...\n",
      "7447                 [সুখ, পায়নি, বলে, কখনও, আশাহত, হয়নি]\n",
      "7448                      [কিছু, পায়নি, বলে, কষ্ট, পায়নি]\n",
      "7449                  [কারণে, পর্যন্ত, জীবনে, সুখ, পায়নি]\n",
      "7450              [কাউকে, খুঁজে, পায়নি, দেখে, ভয়, পেয়েছে]\n",
      "7451                    [প্রতি, ভালবাসা, দিন, দিন, বাড়ছে]\n",
      "7452             [ভালবাসা, কিভাবে, বাড়ছে, তা, দেখতে, হবে]\n",
      "7453                               [প্রতি, সম্মান, বাড়ছে]\n",
      "7454                              [কখনও, আশাহত, করে, নাই]\n",
      "7455                                        [আশাহত, করেছ]\n",
      "7456         [মোটেও, আশাহত, হইনি, বরং, কাজে, খুশি, হয়েছি]\n",
      "7457      [কেনো, কাজটি, করলাম, কারণে, সবাই, আশাহত, হয়েছে]\n",
      "7458                                [প্রতি, আশাহত, হয়েছে]\n",
      "Name: Review, Length: 7459, dtype: object\n"
     ]
    }
   ],
   "source": [
    "print(filtered)"
   ]
  },
  {
   "cell_type": "code",
   "execution_count": 8,
   "metadata": {},
   "outputs": [],
   "source": [
    "STR=x\n",
    "for i in range(len(filtered)):\n",
    "     STR[i] = ' '.join(filtered[i])"
   ]
  },
  {
   "cell_type": "code",
   "execution_count": 9,
   "metadata": {},
   "outputs": [],
   "source": [
    "Initializing = TfidfVectorizer()\n",
    "x_final = Initializing.fit_transform(STR)\n",
    "a = x_final.toarray()"
   ]
  },
  {
   "cell_type": "code",
   "execution_count": 10,
   "metadata": {},
   "outputs": [],
   "source": [
    "hello = preprocessing.LabelEncoder()\n",
    "y_final = hello.fit_transform(y)"
   ]
  },
  {
   "cell_type": "code",
   "execution_count": 11,
   "metadata": {},
   "outputs": [],
   "source": [
    "x_train, x_test, y_train, y_test = train_test_split(a,y_final,test_size = 0.2, random_state =2)"
   ]
  },
  {
   "cell_type": "code",
   "execution_count": 12,
   "metadata": {},
   "outputs": [],
   "source": [
    "from sklearn.metrics import precision_score\n",
    "from sklearn.metrics import recall_score\n",
    "from sklearn.metrics import f1_score\n",
    "from sklearn.metrics import accuracy_score"
   ]
  },
  {
   "cell_type": "code",
   "execution_count": 13,
   "metadata": {},
   "outputs": [
    {
     "name": "stderr",
     "output_type": "stream",
     "text": [
      "C:\\Users\\Tulan\\Anaconda3\\lib\\site-packages\\sklearn\\ensemble\\forest.py:245: FutureWarning: The default value of n_estimators will change from 10 in version 0.20 to 100 in 0.22.\n",
      "  \"10 in version 0.20 to 100 in 0.22.\", FutureWarning)\n"
     ]
    },
    {
     "name": "stdout",
     "output_type": "stream",
     "text": [
      "1093\n",
      "1492\n",
      "Accuracy :  73.25737265415549\n",
      "Confusion Matrix\n",
      "[[577 185   0]\n",
      " [213 516   1]\n",
      " [  0   0   0]]\n",
      "f1 Score: 73.26053815324154\n",
      "Recall: 73.25737265415549\n",
      "Precision: 73.31742726104741\n"
     ]
    },
    {
     "name": "stderr",
     "output_type": "stream",
     "text": [
      "C:\\Users\\Tulan\\Anaconda3\\lib\\site-packages\\sklearn\\metrics\\classification.py:1439: UndefinedMetricWarning: F-score is ill-defined and being set to 0.0 in labels with no true samples.\n",
      "  'recall', 'true', average, warn_for)\n",
      "C:\\Users\\Tulan\\Anaconda3\\lib\\site-packages\\sklearn\\metrics\\classification.py:1439: UndefinedMetricWarning: Recall is ill-defined and being set to 0.0 in labels with no true samples.\n",
      "  'recall', 'true', average, warn_for)\n"
     ]
    }
   ],
   "source": [
    "from sklearn.ensemble import RandomForestClassifier\n",
    "\n",
    "rf = RandomForestClassifier()\n",
    "rf.fit(x_train, y_train)\n",
    "prediction3 = rf.predict(x_test)\n",
    "\n",
    "\n",
    "count3 = 0\n",
    "for i in range (len(prediction3)):\n",
    "    if(prediction3[i]==y_test[i]):\n",
    "        count3=count3+1\n",
    "\n",
    "print(count3)\n",
    "print(len(prediction3))\n",
    "\n",
    "print(\"Accuracy : \", (count3/len(prediction3))*100)\n",
    "'''AccRF=accuracy_score(y_test,prediction3)*100'''\n",
    "F1RF=f1_score(y_test,prediction3,average='weighted')*100\n",
    "RRF=recall_score(y_test,prediction3,average='weighted')*100\n",
    "PRF=precision_score(y_test,prediction3,average='weighted')*100\n",
    "\n",
    "print('Confusion Matrix')\n",
    "print(confusion_matrix(y_test, prediction3))\n",
    "\n",
    "'''print(\"Accuracy : \",AccRF )'''\n",
    "\n",
    "print ('f1 Score:',F1RF)\n",
    "\n",
    "print ('Recall:',RRF)\n",
    "\n",
    "print ('Precision:',PRF)"
   ]
  },
  {
   "cell_type": "code",
   "execution_count": 14,
   "metadata": {},
   "outputs": [
    {
     "name": "stdout",
     "output_type": "stream",
     "text": [
      "1073\n",
      "1492\n",
      "Accuracy :  71.91689008042896\n",
      "Confusion Matrix\n",
      "[[618 144]\n",
      " [275 455]]\n",
      "f1 Score: 71.64425538650484\n",
      "Recall: 71.91689008042896\n",
      "Precision: 72.50999047410266\n"
     ]
    }
   ],
   "source": [
    "#Neural Network\n",
    "from sklearn.neural_network import MLPClassifier\n",
    "neural_network = MLPClassifier( hidden_layer_sizes=(200,250), activation='relu', solver='adam', alpha=0.2, batch_size='auto', learning_rate='constant', learning_rate_init=0.01, power_t=0.5, max_iter=5000, shuffle=True, random_state=90, tol=0.001, verbose=False, warm_start=False, momentum=0.9, nesterovs_momentum=True, early_stopping=False, validation_fraction=0.1, beta_1=0.8, beta_2=0.8, epsilon=1e-08  )\n",
    "neural_network.fit(x_train, y_train)\n",
    "prediction4 = neural_network.predict(x_test)  \n",
    "count4 = 0\n",
    "for i in range (len(prediction4)):\n",
    "    if(prediction4[i]==y_test[i]):\n",
    "        count4=count4+1\n",
    "\n",
    "print(count4)\n",
    "print(len(prediction4))\n",
    "\n",
    "print(\"Accuracy : \", (count4/len(prediction4))*100)\n",
    "'''AccNN=accuracy_score(y_test,prediction1)*100'''\n",
    "F1NN=f1_score(y_test,prediction4,average='weighted')*100\n",
    "RNN=recall_score(y_test,prediction4,average='weighted')*100\n",
    "PNN=precision_score(y_test,prediction4,average='weighted')*100\n",
    "\n",
    "print('Confusion Matrix')\n",
    "print(confusion_matrix(y_test, prediction4))\n",
    "\n",
    "'''print(\"Accuracy : \",AccNN )'''\n",
    "\n",
    "print ('f1 Score:',F1NN)\n",
    "\n",
    "print ('Recall:',RNN)\n",
    "\n",
    "print ('Precision:',PNN)"
   ]
  },
  {
   "cell_type": "code",
   "execution_count": 15,
   "metadata": {},
   "outputs": [
    {
     "name": "stdout",
     "output_type": "stream",
     "text": [
      "1050\n",
      "1492\n",
      "Accuracy :  70.37533512064343\n",
      "Confusion Matrix\n",
      "[[516 246]\n",
      " [196 534]]\n",
      "f1 Score: 70.3633560941662\n",
      "Recall: 70.37533512064343\n",
      "Precision: 70.50973095344575\n"
     ]
    }
   ],
   "source": [
    "from sklearn.tree import DecisionTreeClassifier\n",
    "dt = DecisionTreeClassifier()\n",
    "dt.fit(x_train, y_train)\n",
    "prediction6 = dt.predict(x_test)\n",
    "\n",
    "\n",
    "count6 = 0\n",
    "for i in range (len(prediction6)):\n",
    "    if(prediction6[i]==y_test[i]):\n",
    "        count6=count6+1\n",
    "\n",
    "print(count6)\n",
    "print(len(prediction6))\n",
    "print(\"Accuracy : \", (count6/len(prediction6))*100)\n",
    "\n",
    "'''AccDT=accuracy_score(y_test,prediction6)*100'''\n",
    "F1DT=f1_score(y_test,prediction6,average='weighted')*100\n",
    "RDT=recall_score(y_test,prediction6,average='weighted')*100\n",
    "PDT=precision_score(y_test,prediction6,average='weighted')*100\n",
    "\n",
    "print('Confusion Matrix')\n",
    "print(confusion_matrix(y_test, prediction6))\n",
    "\n",
    "'''print(\"Accuracy : \",AccDT )'''\n",
    "\n",
    "print ('f1 Score:',F1DT)\n",
    "\n",
    "print ('Recall:',RDT)\n",
    "\n",
    "print ('Precision:',PDT)"
   ]
  },
  {
   "cell_type": "code",
   "execution_count": null,
   "metadata": {},
   "outputs": [],
   "source": []
  },
  {
   "cell_type": "code",
   "execution_count": null,
   "metadata": {},
   "outputs": [],
   "source": []
  }
 ],
 "metadata": {
  "kernelspec": {
   "display_name": "Python 3",
   "language": "python",
   "name": "python3"
  },
  "language_info": {
   "codemirror_mode": {
    "name": "ipython",
    "version": 3
   },
   "file_extension": ".py",
   "mimetype": "text/x-python",
   "name": "python",
   "nbconvert_exporter": "python",
   "pygments_lexer": "ipython3",
   "version": "3.7.3"
  }
 },
 "nbformat": 4,
 "nbformat_minor": 2
}
